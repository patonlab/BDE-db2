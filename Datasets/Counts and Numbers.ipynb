{
 "cells": [
  {
   "cell_type": "code",
   "execution_count": 1,
   "metadata": {},
   "outputs": [],
   "source": [
    "import pandas as pd"
   ]
  },
  {
   "cell_type": "code",
   "execution_count": 2,
   "metadata": {},
   "outputs": [],
   "source": [
    "bde = pd.read_csv('training/bde_rdf_model_1.csv.gz', index_col=0)\n",
    "bde = bde[bde.set=='train']"
   ]
  },
  {
   "cell_type": "code",
   "execution_count": 3,
   "metadata": {},
   "outputs": [],
   "source": [
    "bde2 = pd.read_csv('training/bde_rdf_with_multi_halo_model_2.csv.gz', index_col=0)\n",
    "bde2 = bde2[bde2.set=='train']"
   ]
  },
  {
   "cell_type": "code",
   "execution_count": 4,
   "metadata": {},
   "outputs": [],
   "source": [
    "bde3 = pd.read_csv('training/bde_rdf_with_multi_halo_cfc_model_3.csv.gz', index_col=0)\n",
    "bde3 = bde3[bde3.set=='train']"
   ]
  },
  {
   "cell_type": "markdown",
   "metadata": {},
   "source": [
    "### test 1"
   ]
  },
  {
   "cell_type": "code",
   "execution_count": 5,
   "metadata": {},
   "outputs": [],
   "source": [
    "test1 = pd.read_csv('external tests/test_set_commercial_set.csv', index_col=0)"
   ]
  },
  {
   "cell_type": "code",
   "execution_count": 6,
   "metadata": {},
   "outputs": [
    {
     "data": {
      "text/plain": [
       "64"
      ]
     },
     "execution_count": 6,
     "metadata": {},
     "output_type": "execute_result"
    }
   ],
   "source": [
    "bde[bde.molecule.isin(test1.molecule.unique())].molecule.nunique()"
   ]
  },
  {
   "cell_type": "code",
   "execution_count": 7,
   "metadata": {},
   "outputs": [
    {
     "data": {
      "text/plain": [
       "C-H     4389\n",
       "C-C      786\n",
       "C-Cl     304\n",
       "Br-C     296\n",
       "C-O      294\n",
       "C-F      230\n",
       "H-N      206\n",
       "C-N      198\n",
       "C-I       44\n",
       "C-S       24\n",
       "N-O       16\n",
       "H-O       14\n",
       "N-S        5\n",
       "C-P        1\n",
       "Name: bond_type, dtype: int64"
      ]
     },
     "execution_count": 7,
     "metadata": {},
     "output_type": "execute_result"
    }
   ],
   "source": [
    "test1.bond_type.value_counts()"
   ]
  },
  {
   "cell_type": "code",
   "execution_count": 28,
   "metadata": {},
   "outputs": [
    {
     "data": {
      "text/plain": [
       "(4449, 8)"
      ]
     },
     "execution_count": 28,
     "metadata": {},
     "output_type": "execute_result"
    }
   ],
   "source": [
    "test1.drop_duplicates(subset=['molecule', 'fragment1', 'fragment2']).shape"
   ]
  },
  {
   "cell_type": "code",
   "execution_count": 29,
   "metadata": {},
   "outputs": [
    {
     "data": {
      "text/plain": [
       "(772, 8)"
      ]
     },
     "execution_count": 29,
     "metadata": {},
     "output_type": "execute_result"
    }
   ],
   "source": [
    "bonds=['C-F','C-Cl','Br-C','C-I']\n",
    "bde_num = test1.drop_duplicates(subset=['molecule', 'fragment1', 'fragment2'])\n",
    "bde_num[bde_num.bond_type.isin(bonds)].shape"
   ]
  },
  {
   "cell_type": "markdown",
   "metadata": {},
   "source": [
    "### test 2"
   ]
  },
  {
   "cell_type": "code",
   "execution_count": 8,
   "metadata": {},
   "outputs": [],
   "source": [
    "test2 = pd.read_csv('external tests/test_set_cfc.csv', index_col=0)"
   ]
  },
  {
   "cell_type": "code",
   "execution_count": 30,
   "metadata": {},
   "outputs": [
    {
     "data": {
      "text/plain": [
       "1"
      ]
     },
     "execution_count": 30,
     "metadata": {},
     "output_type": "execute_result"
    }
   ],
   "source": [
    "bde2[bde2.molecule.isin(test2.molecule.unique())].molecule.nunique()"
   ]
  },
  {
   "cell_type": "code",
   "execution_count": 10,
   "metadata": {},
   "outputs": [
    {
     "data": {
      "text/plain": [
       "C-F     125\n",
       "C-Cl     85\n",
       "C-C      45\n",
       "C-H      19\n",
       "Br-C      4\n",
       "Name: bond_type, dtype: int64"
      ]
     },
     "execution_count": 10,
     "metadata": {},
     "output_type": "execute_result"
    }
   ],
   "source": [
    "test2.bond_type.value_counts()"
   ]
  },
  {
   "cell_type": "code",
   "execution_count": 31,
   "metadata": {},
   "outputs": [
    {
     "data": {
      "text/plain": [
       "(157, 8)"
      ]
     },
     "execution_count": 31,
     "metadata": {},
     "output_type": "execute_result"
    }
   ],
   "source": [
    "test2.drop_duplicates(subset=['molecule', 'fragment1', 'fragment2']).shape"
   ]
  },
  {
   "cell_type": "code",
   "execution_count": 32,
   "metadata": {},
   "outputs": [
    {
     "data": {
      "text/plain": [
       "(105, 8)"
      ]
     },
     "execution_count": 32,
     "metadata": {},
     "output_type": "execute_result"
    }
   ],
   "source": [
    "bonds=['C-F','C-Cl','Br-C','C-I']\n",
    "bde_num2 = test2.drop_duplicates(subset=['molecule', 'fragment1', 'fragment2'])\n",
    "bde_num2[bde_num2.bond_type.isin(bonds)].shape"
   ]
  },
  {
   "cell_type": "markdown",
   "metadata": {},
   "source": [
    "### external 1"
   ]
  },
  {
   "cell_type": "code",
   "execution_count": 11,
   "metadata": {},
   "outputs": [
    {
     "data": {
      "text/html": [
       "<div>\n",
       "<style scoped>\n",
       "    .dataframe tbody tr th:only-of-type {\n",
       "        vertical-align: middle;\n",
       "    }\n",
       "\n",
       "    .dataframe tbody tr th {\n",
       "        vertical-align: top;\n",
       "    }\n",
       "\n",
       "    .dataframe thead th {\n",
       "        text-align: right;\n",
       "    }\n",
       "</style>\n",
       "<table border=\"1\" class=\"dataframe\">\n",
       "  <thead>\n",
       "    <tr style=\"text-align: right;\">\n",
       "      <th></th>\n",
       "      <th>molecule</th>\n",
       "      <th>bond_index</th>\n",
       "      <th>fragment1</th>\n",
       "      <th>fragment2</th>\n",
       "      <th>bond_type</th>\n",
       "      <th>bde</th>\n",
       "      <th>bdfe</th>\n",
       "      <th>bdscfe</th>\n",
       "      <th>set</th>\n",
       "    </tr>\n",
       "    <tr>\n",
       "      <th>rid</th>\n",
       "      <th></th>\n",
       "      <th></th>\n",
       "      <th></th>\n",
       "      <th></th>\n",
       "      <th></th>\n",
       "      <th></th>\n",
       "      <th></th>\n",
       "      <th></th>\n",
       "      <th></th>\n",
       "    </tr>\n",
       "  </thead>\n",
       "  <tbody>\n",
       "  </tbody>\n",
       "</table>\n",
       "</div>"
      ],
      "text/plain": [
       "Empty DataFrame\n",
       "Columns: [molecule, bond_index, fragment1, fragment2, bond_type, bde, bdfe, bdscfe, set]\n",
       "Index: []"
      ]
     },
     "execution_count": 11,
     "metadata": {},
     "output_type": "execute_result"
    }
   ],
   "source": [
    "ext1 = pd.read_csv('external tests/test_set_natural_products.csv', index_col=0)\n",
    "bde3[bde3.molecule.isin(ext1.molecule.unique())]"
   ]
  },
  {
   "cell_type": "code",
   "execution_count": 12,
   "metadata": {},
   "outputs": [
    {
     "data": {
      "text/plain": [
       "C-H     38\n",
       "C-C      9\n",
       "C-O      9\n",
       "H-N      8\n",
       "H-O      4\n",
       "C-I      4\n",
       "C-N      3\n",
       "Br-C     2\n",
       "C-F      1\n",
       "O-S      1\n",
       "N-S      1\n",
       "C-Cl     1\n",
       "Name: bond_type, dtype: int64"
      ]
     },
     "execution_count": 12,
     "metadata": {},
     "output_type": "execute_result"
    }
   ],
   "source": [
    "ext1.bond_type.value_counts()"
   ]
  },
  {
   "cell_type": "code",
   "execution_count": 13,
   "metadata": {},
   "outputs": [
    {
     "data": {
      "text/plain": [
       "(81, 8)"
      ]
     },
     "execution_count": 13,
     "metadata": {},
     "output_type": "execute_result"
    }
   ],
   "source": [
    "ext1.shape"
   ]
  },
  {
   "cell_type": "code",
   "execution_count": 44,
   "metadata": {},
   "outputs": [
    {
     "data": {
      "text/plain": [
       "22.75"
      ]
     },
     "execution_count": 44,
     "metadata": {},
     "output_type": "execute_result"
    }
   ],
   "source": [
    "from rdkit import Chem\n",
    "import numpy as np\n",
    "numb_atoms = []\n",
    "for mol in ext1.molecule.unique():\n",
    "    numb_atoms.append( Chem.MolFromSmiles(mol).GetNumAtoms())\n",
    "np.mean(numb_atoms)"
   ]
  },
  {
   "cell_type": "code",
   "execution_count": 47,
   "metadata": {},
   "outputs": [
    {
     "data": {
      "text/plain": [
       "(65, 8)"
      ]
     },
     "execution_count": 47,
     "metadata": {},
     "output_type": "execute_result"
    }
   ],
   "source": [
    "ext1.drop_duplicates(subset=['molecule', 'fragment1', 'fragment2']).shape"
   ]
  },
  {
   "cell_type": "markdown",
   "metadata": {},
   "source": [
    "### ext 2"
   ]
  },
  {
   "cell_type": "code",
   "execution_count": 24,
   "metadata": {},
   "outputs": [
    {
     "data": {
      "text/plain": [
       "array(['FC(F)F', 'CF', 'CCl', 'FCF', 'CC(Cl)(Cl)Cl', 'ClCCl', 'ClC(Cl)Cl'],\n",
       "      dtype=object)"
      ]
     },
     "execution_count": 24,
     "metadata": {},
     "output_type": "execute_result"
    }
   ],
   "source": [
    "ext2 = pd.read_csv('external tests/test_set_exp_bdes.csv')\n",
    "bde3[bde3.molecule.isin(ext2.smiles.unique())].molecule.unique()\n",
    "# test3"
   ]
  },
  {
   "cell_type": "code",
   "execution_count": 15,
   "metadata": {},
   "outputs": [
    {
     "data": {
      "text/plain": [
       "C-H     26\n",
       "C-C     24\n",
       "C-Cl    19\n",
       "C-F     13\n",
       "Name: bond_type, dtype: int64"
      ]
     },
     "execution_count": 15,
     "metadata": {},
     "output_type": "execute_result"
    }
   ],
   "source": [
    "ext2.bond_type.value_counts()"
   ]
  },
  {
   "cell_type": "code",
   "execution_count": 50,
   "metadata": {},
   "outputs": [
    {
     "data": {
      "text/plain": [
       "(82, 10)"
      ]
     },
     "execution_count": 50,
     "metadata": {},
     "output_type": "execute_result"
    }
   ],
   "source": [
    "ext2.drop_duplicates(subset=['smiles', 'fragment1', 'fragment2']).shape"
   ]
  },
  {
   "cell_type": "code",
   "execution_count": 52,
   "metadata": {},
   "outputs": [
    {
     "data": {
      "text/plain": [
       "40"
      ]
     },
     "execution_count": 52,
     "metadata": {},
     "output_type": "execute_result"
    }
   ],
   "source": [
    "ext2.smiles.nunique()"
   ]
  },
  {
   "cell_type": "markdown",
   "metadata": {},
   "source": [
    "### ext 3"
   ]
  },
  {
   "cell_type": "code",
   "execution_count": 17,
   "metadata": {},
   "outputs": [
    {
     "data": {
      "text/html": [
       "<div>\n",
       "<style scoped>\n",
       "    .dataframe tbody tr th:only-of-type {\n",
       "        vertical-align: middle;\n",
       "    }\n",
       "\n",
       "    .dataframe tbody tr th {\n",
       "        vertical-align: top;\n",
       "    }\n",
       "\n",
       "    .dataframe thead th {\n",
       "        text-align: right;\n",
       "    }\n",
       "</style>\n",
       "<table border=\"1\" class=\"dataframe\">\n",
       "  <thead>\n",
       "    <tr style=\"text-align: right;\">\n",
       "      <th></th>\n",
       "      <th>molecule</th>\n",
       "      <th>bond_index</th>\n",
       "      <th>fragment1</th>\n",
       "      <th>fragment2</th>\n",
       "      <th>bond_type</th>\n",
       "      <th>bde</th>\n",
       "      <th>bdfe</th>\n",
       "      <th>bdscfe</th>\n",
       "      <th>set</th>\n",
       "    </tr>\n",
       "    <tr>\n",
       "      <th>rid</th>\n",
       "      <th></th>\n",
       "      <th></th>\n",
       "      <th></th>\n",
       "      <th></th>\n",
       "      <th></th>\n",
       "      <th></th>\n",
       "      <th></th>\n",
       "      <th></th>\n",
       "      <th></th>\n",
       "    </tr>\n",
       "  </thead>\n",
       "  <tbody>\n",
       "  </tbody>\n",
       "</table>\n",
       "</div>"
      ],
      "text/plain": [
       "Empty DataFrame\n",
       "Columns: [molecule, bond_index, fragment1, fragment2, bond_type, bde, bdfe, bdscfe, set]\n",
       "Index: []"
      ]
     },
     "execution_count": 17,
     "metadata": {},
     "output_type": "execute_result"
    }
   ],
   "source": [
    "ext3 = pd.read_csv('external tests/test_set_pfas.csv.gz')\n",
    "bde3[bde3.molecule.isin(ext3.molecule.unique())]\n",
    "# test3"
   ]
  },
  {
   "cell_type": "code",
   "execution_count": 20,
   "metadata": {},
   "outputs": [
    {
     "data": {
      "text/plain": [
       "C-F    557\n",
       "C-C    302\n",
       "C-H    168\n",
       "C-O     46\n",
       "H-O     46\n",
       "H-N     25\n",
       "C-N     16\n",
       "N-S      1\n",
       "C-S      1\n",
       "Name: bond_type, dtype: int64"
      ]
     },
     "execution_count": 20,
     "metadata": {},
     "output_type": "execute_result"
    }
   ],
   "source": [
    "ext3.bond_type.value_counts()"
   ]
  },
  {
   "cell_type": "code",
   "execution_count": 21,
   "metadata": {},
   "outputs": [
    {
     "data": {
      "text/plain": [
       "(1162, 8)"
      ]
     },
     "execution_count": 21,
     "metadata": {},
     "output_type": "execute_result"
    }
   ],
   "source": [
    "ext3.shape"
   ]
  },
  {
   "cell_type": "code",
   "execution_count": 54,
   "metadata": {},
   "outputs": [
    {
     "data": {
      "text/plain": [
       "(697, 8)"
      ]
     },
     "execution_count": 54,
     "metadata": {},
     "output_type": "execute_result"
    }
   ],
   "source": [
    "ext3.drop_duplicates(subset=['molecule', 'fragment1', 'fragment2']).shape"
   ]
  },
  {
   "cell_type": "code",
   "execution_count": 55,
   "metadata": {},
   "outputs": [
    {
     "data": {
      "text/plain": [
       "57"
      ]
     },
     "execution_count": 55,
     "metadata": {},
     "output_type": "execute_result"
    }
   ],
   "source": [
    "ext3.molecule.nunique()"
   ]
  },
  {
   "cell_type": "markdown",
   "metadata": {},
   "source": [
    "### TRAINING LOOP"
   ]
  },
  {
   "cell_type": "code",
   "execution_count": 33,
   "metadata": {},
   "outputs": [],
   "source": [
    "mh = pd.read_csv('training/20210101_multi_halo_to_add_to_train.csv.gzip',compression='gzip')"
   ]
  },
  {
   "cell_type": "code",
   "execution_count": 34,
   "metadata": {},
   "outputs": [
    {
     "data": {
      "text/plain": [
       "193"
      ]
     },
     "execution_count": 34,
     "metadata": {},
     "output_type": "execute_result"
    }
   ],
   "source": [
    "mh.molecule.nunique()"
   ]
  },
  {
   "cell_type": "code",
   "execution_count": 35,
   "metadata": {},
   "outputs": [
    {
     "data": {
      "text/plain": [
       "(1634, 10)"
      ]
     },
     "execution_count": 35,
     "metadata": {},
     "output_type": "execute_result"
    }
   ],
   "source": [
    "mh.drop_duplicates(subset=['molecule', 'fragment1', 'fragment2']).shape"
   ]
  },
  {
   "cell_type": "code",
   "execution_count": 36,
   "metadata": {},
   "outputs": [
    {
     "data": {
      "text/plain": [
       "(413, 10)"
      ]
     },
     "execution_count": 36,
     "metadata": {},
     "output_type": "execute_result"
    }
   ],
   "source": [
    "bonds=['C-F','C-Cl','Br-C','C-I']\n",
    "bde_nummh = mh.drop_duplicates(subset=['molecule', 'fragment1', 'fragment2'])\n",
    "bde_nummh[bde_nummh.bond_type.isin(bonds)].shape"
   ]
  },
  {
   "cell_type": "code",
   "execution_count": 37,
   "metadata": {},
   "outputs": [
    {
     "data": {
      "text/plain": [
       "C-H     713\n",
       "C-C     257\n",
       "C-Cl    141\n",
       "C-F     139\n",
       "Br-C    119\n",
       "C-O      87\n",
       "C-N      82\n",
       "H-N      47\n",
       "C-I      14\n",
       "H-O      13\n",
       "C-S      13\n",
       "N-O       4\n",
       "N-S       3\n",
       "N-N       1\n",
       "O-S       1\n",
       "Name: bond_type, dtype: int64"
      ]
     },
     "execution_count": 37,
     "metadata": {},
     "output_type": "execute_result"
    }
   ],
   "source": [
    "bde_nummh.bond_type.value_counts()"
   ]
  },
  {
   "cell_type": "markdown",
   "metadata": {},
   "source": [
    "### NUMBER OF ATOMS"
   ]
  },
  {
   "cell_type": "code",
   "execution_count": 46,
   "metadata": {},
   "outputs": [
    {
     "data": {
      "text/plain": [
       "9.131236272356448"
      ]
     },
     "execution_count": 46,
     "metadata": {},
     "output_type": "execute_result"
    }
   ],
   "source": [
    "#number of tatoms\n",
    "from rdkit import Chem\n",
    "import numpy as np\n",
    "numb_atoms3 = []\n",
    "for mol in bde3.molecule.unique():\n",
    "    numb_atoms3.append( Chem.MolFromSmiles(mol).GetNumAtoms())\n",
    "np.mean(numb_atoms3)"
   ]
  },
  {
   "cell_type": "markdown",
   "metadata": {},
   "source": [
    "#### bde-db2"
   ]
  },
  {
   "cell_type": "code",
   "execution_count": 62,
   "metadata": {},
   "outputs": [],
   "source": [
    "bdedb2 = pd.read_csv('bde-db2/bde-db2.csv.gz', index_col=0)"
   ]
  },
  {
   "cell_type": "code",
   "execution_count": 63,
   "metadata": {},
   "outputs": [
    {
     "data": {
      "text/html": [
       "<div>\n",
       "<style scoped>\n",
       "    .dataframe tbody tr th:only-of-type {\n",
       "        vertical-align: middle;\n",
       "    }\n",
       "\n",
       "    .dataframe tbody tr th {\n",
       "        vertical-align: top;\n",
       "    }\n",
       "\n",
       "    .dataframe thead th {\n",
       "        text-align: right;\n",
       "    }\n",
       "</style>\n",
       "<table border=\"1\" class=\"dataframe\">\n",
       "  <thead>\n",
       "    <tr style=\"text-align: right;\">\n",
       "      <th></th>\n",
       "      <th>molecule</th>\n",
       "      <th>bond_index</th>\n",
       "      <th>fragment1</th>\n",
       "      <th>fragment2</th>\n",
       "      <th>bde</th>\n",
       "      <th>bdfe</th>\n",
       "      <th>bdscfe</th>\n",
       "      <th>bond_type</th>\n",
       "      <th>set</th>\n",
       "    </tr>\n",
       "    <tr>\n",
       "      <th>rid</th>\n",
       "      <th></th>\n",
       "      <th></th>\n",
       "      <th></th>\n",
       "      <th></th>\n",
       "      <th></th>\n",
       "      <th></th>\n",
       "      <th></th>\n",
       "      <th></th>\n",
       "      <th></th>\n",
       "    </tr>\n",
       "  </thead>\n",
       "  <tbody>\n",
       "    <tr>\n",
       "      <th>1643.0</th>\n",
       "      <td>CC(=O)[C@H](C)O</td>\n",
       "      <td>2</td>\n",
       "      <td>C[C]=O</td>\n",
       "      <td>C[CH]O</td>\n",
       "      <td>81.637666</td>\n",
       "      <td>67.177976</td>\n",
       "      <td>85.596182</td>\n",
       "      <td>C-C</td>\n",
       "      <td>train</td>\n",
       "    </tr>\n",
       "    <tr>\n",
       "      <th>5327.0</th>\n",
       "      <td>CN1CCN(CCN)CC1</td>\n",
       "      <td>6</td>\n",
       "      <td>[CH2]CN1CCN(C)CC1</td>\n",
       "      <td>[NH2]</td>\n",
       "      <td>87.007888</td>\n",
       "      <td>74.432608</td>\n",
       "      <td>94.044523</td>\n",
       "      <td>C-N</td>\n",
       "      <td>train</td>\n",
       "    </tr>\n",
       "    <tr>\n",
       "      <th>5847.0</th>\n",
       "      <td>OCCc1ncc[nH]1</td>\n",
       "      <td>0</td>\n",
       "      <td>[CH2]Cc1ncc[nH]1</td>\n",
       "      <td>[OH]</td>\n",
       "      <td>97.708799</td>\n",
       "      <td>85.799933</td>\n",
       "      <td>103.607444</td>\n",
       "      <td>C-O</td>\n",
       "      <td>train</td>\n",
       "    </tr>\n",
       "    <tr>\n",
       "      <th>5849.0</th>\n",
       "      <td>OCCc1ncc[nH]1</td>\n",
       "      <td>2</td>\n",
       "      <td>[CH2]CO</td>\n",
       "      <td>[c]1ncc[nH]1</td>\n",
       "      <td>111.388495</td>\n",
       "      <td>97.257620</td>\n",
       "      <td>116.298432</td>\n",
       "      <td>C-C</td>\n",
       "      <td>train</td>\n",
       "    </tr>\n",
       "    <tr>\n",
       "      <th>7480.0</th>\n",
       "      <td>CCCC(=O)OCC</td>\n",
       "      <td>2</td>\n",
       "      <td>CCO[C]=O</td>\n",
       "      <td>[CH2]CC</td>\n",
       "      <td>93.436718</td>\n",
       "      <td>79.632775</td>\n",
       "      <td>98.273105</td>\n",
       "      <td>C-C</td>\n",
       "      <td>train</td>\n",
       "    </tr>\n",
       "    <tr>\n",
       "      <th>...</th>\n",
       "      <td>...</td>\n",
       "      <td>...</td>\n",
       "      <td>...</td>\n",
       "      <td>...</td>\n",
       "      <td>...</td>\n",
       "      <td>...</td>\n",
       "      <td>...</td>\n",
       "      <td>...</td>\n",
       "      <td>...</td>\n",
       "    </tr>\n",
       "    <tr>\n",
       "      <th>1165608.0</th>\n",
       "      <td>O=C(OC1CC1)[C@H]1C[C@@H]1F</td>\n",
       "      <td>5</td>\n",
       "      <td>O=[C]OC1CC1</td>\n",
       "      <td>F[C@@H]1[CH]C1</td>\n",
       "      <td>103.767398</td>\n",
       "      <td>89.844856</td>\n",
       "      <td>108.195512</td>\n",
       "      <td>C-C</td>\n",
       "      <td>train</td>\n",
       "    </tr>\n",
       "    <tr>\n",
       "      <th>174043.0</th>\n",
       "      <td>CN(C)CCN=C(N)N</td>\n",
       "      <td>3</td>\n",
       "      <td>[CH2]N(C)C</td>\n",
       "      <td>[CH2]N=C(N)N</td>\n",
       "      <td>70.378899</td>\n",
       "      <td>55.753547</td>\n",
       "      <td>75.722240</td>\n",
       "      <td>C-C</td>\n",
       "      <td>train</td>\n",
       "    </tr>\n",
       "    <tr>\n",
       "      <th>253892.0</th>\n",
       "      <td>CN(C)C/C=N/N(C)C</td>\n",
       "      <td>3</td>\n",
       "      <td>[CH2]N(C)C</td>\n",
       "      <td>[CH]=NN(C)C</td>\n",
       "      <td>84.140799</td>\n",
       "      <td>70.385802</td>\n",
       "      <td>88.590835</td>\n",
       "      <td>C-C</td>\n",
       "      <td>train</td>\n",
       "    </tr>\n",
       "    <tr>\n",
       "      <th>989691.0</th>\n",
       "      <td>CS[C@H](C)CCN(C)C</td>\n",
       "      <td>4</td>\n",
       "      <td>[CH2]N(C)C</td>\n",
       "      <td>[CH2][C@@H](C)SC</td>\n",
       "      <td>78.681471</td>\n",
       "      <td>63.484458</td>\n",
       "      <td>84.004562</td>\n",
       "      <td>C-C</td>\n",
       "      <td>train</td>\n",
       "    </tr>\n",
       "    <tr>\n",
       "      <th>380338.0</th>\n",
       "      <td>C/C=C(\\C)C(=O)CC</td>\n",
       "      <td>3</td>\n",
       "      <td>C/[C]=C\\C</td>\n",
       "      <td>CC[C]=O</td>\n",
       "      <td>94.162746</td>\n",
       "      <td>79.501625</td>\n",
       "      <td>98.247520</td>\n",
       "      <td>C-C</td>\n",
       "      <td>train</td>\n",
       "    </tr>\n",
       "  </tbody>\n",
       "</table>\n",
       "<p>831871 rows × 9 columns</p>\n",
       "</div>"
      ],
      "text/plain": [
       "                             molecule  bond_index          fragment1  \\\n",
       "rid                                                                    \n",
       "1643.0                CC(=O)[C@H](C)O           2             C[C]=O   \n",
       "5327.0                 CN1CCN(CCN)CC1           6  [CH2]CN1CCN(C)CC1   \n",
       "5847.0                  OCCc1ncc[nH]1           0   [CH2]Cc1ncc[nH]1   \n",
       "5849.0                  OCCc1ncc[nH]1           2            [CH2]CO   \n",
       "7480.0                    CCCC(=O)OCC           2           CCO[C]=O   \n",
       "...                               ...         ...                ...   \n",
       "1165608.0  O=C(OC1CC1)[C@H]1C[C@@H]1F           5        O=[C]OC1CC1   \n",
       "174043.0               CN(C)CCN=C(N)N           3         [CH2]N(C)C   \n",
       "253892.0             CN(C)C/C=N/N(C)C           3         [CH2]N(C)C   \n",
       "989691.0            CS[C@H](C)CCN(C)C           4         [CH2]N(C)C   \n",
       "380338.0             C/C=C(\\C)C(=O)CC           3          C/[C]=C\\C   \n",
       "\n",
       "                  fragment2         bde       bdfe      bdscfe bond_type  \\\n",
       "rid                                                                        \n",
       "1643.0               C[CH]O   81.637666  67.177976   85.596182       C-C   \n",
       "5327.0                [NH2]   87.007888  74.432608   94.044523       C-N   \n",
       "5847.0                 [OH]   97.708799  85.799933  103.607444       C-O   \n",
       "5849.0         [c]1ncc[nH]1  111.388495  97.257620  116.298432       C-C   \n",
       "7480.0              [CH2]CC   93.436718  79.632775   98.273105       C-C   \n",
       "...                     ...         ...        ...         ...       ...   \n",
       "1165608.0    F[C@@H]1[CH]C1  103.767398  89.844856  108.195512       C-C   \n",
       "174043.0       [CH2]N=C(N)N   70.378899  55.753547   75.722240       C-C   \n",
       "253892.0        [CH]=NN(C)C   84.140799  70.385802   88.590835       C-C   \n",
       "989691.0   [CH2][C@@H](C)SC   78.681471  63.484458   84.004562       C-C   \n",
       "380338.0            CC[C]=O   94.162746  79.501625   98.247520       C-C   \n",
       "\n",
       "             set  \n",
       "rid               \n",
       "1643.0     train  \n",
       "5327.0     train  \n",
       "5847.0     train  \n",
       "5849.0     train  \n",
       "7480.0     train  \n",
       "...          ...  \n",
       "1165608.0  train  \n",
       "174043.0   train  \n",
       "253892.0   train  \n",
       "989691.0   train  \n",
       "380338.0   train  \n",
       "\n",
       "[831871 rows x 9 columns]"
      ]
     },
     "execution_count": 63,
     "metadata": {},
     "output_type": "execute_result"
    }
   ],
   "source": [
    "bdedb2"
   ]
  },
  {
   "cell_type": "code",
   "execution_count": 64,
   "metadata": {},
   "outputs": [
    {
     "data": {
      "text/plain": [
       "(531244, 9)"
      ]
     },
     "execution_count": 64,
     "metadata": {},
     "output_type": "execute_result"
    }
   ],
   "source": [
    "bdedb2.drop_duplicates(subset=['molecule', 'fragment1', 'fragment2']).shape"
   ]
  },
  {
   "cell_type": "code",
   "execution_count": 65,
   "metadata": {},
   "outputs": [
    {
     "data": {
      "text/plain": [
       "65540"
      ]
     },
     "execution_count": 65,
     "metadata": {},
     "output_type": "execute_result"
    }
   ],
   "source": [
    "bdedb2.molecule.nunique()"
   ]
  },
  {
   "cell_type": "code",
   "execution_count": null,
   "metadata": {},
   "outputs": [],
   "source": []
  }
 ],
 "metadata": {
  "kernelspec": {
   "display_name": "tf27_gpu",
   "language": "python",
   "name": "tf27_gpu"
  },
  "language_info": {
   "codemirror_mode": {
    "name": "ipython",
    "version": 3
   },
   "file_extension": ".py",
   "mimetype": "text/x-python",
   "name": "python",
   "nbconvert_exporter": "python",
   "pygments_lexer": "ipython3",
   "version": "3.8.10"
  }
 },
 "nbformat": 4,
 "nbformat_minor": 2
}
