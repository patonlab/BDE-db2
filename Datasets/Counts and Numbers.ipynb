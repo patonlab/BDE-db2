{
 "cells": [
  {
   "cell_type": "code",
   "execution_count": 2,
   "metadata": {},
   "outputs": [],
   "source": [
    "import pandas as pd"
   ]
  },
  {
   "cell_type": "code",
   "execution_count": 57,
   "metadata": {},
   "outputs": [
    {
     "name": "stdout",
     "output_type": "stream",
     "text": [
      "(806433, 9) 63540\n"
     ]
    }
   ],
   "source": [
    "bde = pd.read_csv('training/bde_rdf_model_1.csv.gz', index_col=0)\n",
    "bde = bde[bde.set=='train']\n",
    "bde.molecule.nunique()\n",
    "print(bde.shape, bde.molecule.nunique())"
   ]
  },
  {
   "cell_type": "code",
   "execution_count": 58,
   "metadata": {},
   "outputs": [
    {
     "name": "stdout",
     "output_type": "stream",
     "text": [
      "(808559, 9) 63732\n"
     ]
    }
   ],
   "source": [
    "bde2 = pd.read_csv('training/bde_rdf_with_multi_halo_model_2.csv.gz', index_col=0)\n",
    "bde2 = bde2[bde2.set=='train']\n",
    "print(bde2.shape, bde2.molecule.nunique())"
   ]
  },
  {
   "cell_type": "code",
   "execution_count": 59,
   "metadata": {},
   "outputs": [
    {
     "name": "stdout",
     "output_type": "stream",
     "text": [
      "(808628, 9) 63740\n"
     ]
    }
   ],
   "source": [
    "bde3 = pd.read_csv('training/bde_rdf_with_multi_halo_cfc_model_3.csv.gz', index_col=0)\n",
    "bde3 = bde3[bde3.set=='train']\n",
    "print(bde3.shape, bde3.molecule.nunique())"
   ]
  },
  {
   "cell_type": "markdown",
   "metadata": {},
   "source": [
    "### Test and training 1"
   ]
  },
  {
   "cell_type": "code",
   "execution_count": 6,
   "metadata": {},
   "outputs": [],
   "source": [
    "test1 = pd.read_csv('testing and improving training/test_set_commercial_set.csv', index_col=0)"
   ]
  },
  {
   "cell_type": "code",
   "execution_count": 9,
   "metadata": {},
   "outputs": [
    {
     "data": {
      "text/plain": [
       "(6807, 8)"
      ]
     },
     "execution_count": 9,
     "metadata": {},
     "output_type": "execute_result"
    }
   ],
   "source": [
    "test1.shape"
   ]
  },
  {
   "cell_type": "code",
   "execution_count": 10,
   "metadata": {},
   "outputs": [
    {
     "data": {
      "text/plain": [
       "(6295, 8)"
      ]
     },
     "execution_count": 10,
     "metadata": {},
     "output_type": "execute_result"
    }
   ],
   "source": [
    "dup = bde[bde.molecule.isin(test1.molecule.unique())].molecule.unique()\n",
    "test1 = test1[~test1.molecule.isin(dup)]\n",
    "test1.shape"
   ]
  },
  {
   "cell_type": "code",
   "execution_count": 13,
   "metadata": {},
   "outputs": [
    {
     "data": {
      "text/plain": [
       "560"
      ]
     },
     "execution_count": 13,
     "metadata": {},
     "output_type": "execute_result"
    }
   ],
   "source": [
    "test1.molecule.nunique()"
   ]
  },
  {
   "cell_type": "code",
   "execution_count": 14,
   "metadata": {},
   "outputs": [
    {
     "data": {
      "text/plain": [
       "C-H     4084\n",
       "C-C      747\n",
       "C-O      279\n",
       "Br-C     276\n",
       "C-Cl     265\n",
       "C-F      213\n",
       "C-N      174\n",
       "H-N      165\n",
       "C-I       38\n",
       "C-S       23\n",
       "N-O       15\n",
       "H-O       10\n",
       "N-S        5\n",
       "C-P        1\n",
       "Name: bond_type, dtype: int64"
      ]
     },
     "execution_count": 14,
     "metadata": {},
     "output_type": "execute_result"
    }
   ],
   "source": [
    "test1.bond_type.value_counts()"
   ]
  },
  {
   "cell_type": "code",
   "execution_count": 17,
   "metadata": {},
   "outputs": [
    {
     "data": {
      "text/plain": [
       "792"
      ]
     },
     "execution_count": 17,
     "metadata": {},
     "output_type": "execute_result"
    }
   ],
   "source": [
    "276+265+213+38"
   ]
  },
  {
   "cell_type": "code",
   "execution_count": 15,
   "metadata": {},
   "outputs": [
    {
     "data": {
      "text/plain": [
       "(4078, 8)"
      ]
     },
     "execution_count": 15,
     "metadata": {},
     "output_type": "execute_result"
    }
   ],
   "source": [
    "test1.drop_duplicates(subset=['molecule', 'fragment1', 'fragment2']).shape"
   ]
  },
  {
   "cell_type": "code",
   "execution_count": 16,
   "metadata": {},
   "outputs": [
    {
     "data": {
      "text/plain": [
       "(696, 8)"
      ]
     },
     "execution_count": 16,
     "metadata": {},
     "output_type": "execute_result"
    }
   ],
   "source": [
    "bonds=['C-F','C-Cl','Br-C','C-I']\n",
    "bde_num = test1.drop_duplicates(subset=['molecule', 'fragment1', 'fragment2'])\n",
    "bde_num[bde_num.bond_type.isin(bonds)].shape"
   ]
  },
  {
   "cell_type": "markdown",
   "metadata": {},
   "source": [
    "### Testing and training 2"
   ]
  },
  {
   "cell_type": "code",
   "execution_count": 38,
   "metadata": {},
   "outputs": [
    {
     "data": {
      "text/plain": [
       "(278, 8)"
      ]
     },
     "execution_count": 38,
     "metadata": {},
     "output_type": "execute_result"
    }
   ],
   "source": [
    "test2 = pd.read_csv('testing and improving training/test_set_cfc.csv', index_col=0)\n",
    "test2.shape"
   ]
  },
  {
   "cell_type": "code",
   "execution_count": 39,
   "metadata": {},
   "outputs": [
    {
     "data": {
      "text/plain": [
       "(274, 8)"
      ]
     },
     "execution_count": 39,
     "metadata": {},
     "output_type": "execute_result"
    }
   ],
   "source": [
    "dup2 = bde2[bde2.molecule.isin(test2.molecule.unique())].molecule.unique()\n",
    "test2 = test2[~test2.molecule.isin(dup2)]\n",
    "test2.shape"
   ]
  },
  {
   "cell_type": "code",
   "execution_count": 40,
   "metadata": {},
   "outputs": [
    {
     "data": {
      "text/plain": [
       "(274, 8)"
      ]
     },
     "execution_count": 40,
     "metadata": {},
     "output_type": "execute_result"
    }
   ],
   "source": [
    "test2.shape"
   ]
  },
  {
   "cell_type": "code",
   "execution_count": 41,
   "metadata": {},
   "outputs": [
    {
     "data": {
      "text/plain": [
       "array([], dtype=object)"
      ]
     },
     "execution_count": 41,
     "metadata": {},
     "output_type": "execute_result"
    }
   ],
   "source": [
    "bde2[bde2.molecule.isin(test2.molecule.unique())].molecule.unique()"
   ]
  },
  {
   "cell_type": "code",
   "execution_count": 42,
   "metadata": {},
   "outputs": [
    {
     "data": {
      "text/plain": [
       "C-F     123\n",
       "C-Cl     85\n",
       "C-C      45\n",
       "C-H      17\n",
       "Br-C      4\n",
       "Name: bond_type, dtype: int64"
      ]
     },
     "execution_count": 42,
     "metadata": {},
     "output_type": "execute_result"
    }
   ],
   "source": [
    "test2.bond_type.value_counts()"
   ]
  },
  {
   "cell_type": "code",
   "execution_count": 43,
   "metadata": {},
   "outputs": [
    {
     "data": {
      "text/plain": [
       "(155, 8)"
      ]
     },
     "execution_count": 43,
     "metadata": {},
     "output_type": "execute_result"
    }
   ],
   "source": [
    "test2.drop_duplicates(subset=['molecule', 'fragment1', 'fragment2']).shape"
   ]
  },
  {
   "cell_type": "code",
   "execution_count": 37,
   "metadata": {},
   "outputs": [
    {
     "data": {
      "text/plain": [
       "(105, 8)"
      ]
     },
     "execution_count": 37,
     "metadata": {},
     "output_type": "execute_result"
    }
   ],
   "source": [
    "bonds=['C-F','C-Cl','Br-C','C-I']\n",
    "bde_num2 = test2.drop_duplicates(subset=['molecule', 'fragment1', 'fragment2'])\n",
    "bde_num2[bde_num2.bond_type.isin(bonds)].shape"
   ]
  },
  {
   "cell_type": "markdown",
   "metadata": {},
   "source": [
    "### External 1"
   ]
  },
  {
   "cell_type": "code",
   "execution_count": 21,
   "metadata": {},
   "outputs": [
    {
     "data": {
      "text/html": [
       "<div>\n",
       "<style scoped>\n",
       "    .dataframe tbody tr th:only-of-type {\n",
       "        vertical-align: middle;\n",
       "    }\n",
       "\n",
       "    .dataframe tbody tr th {\n",
       "        vertical-align: top;\n",
       "    }\n",
       "\n",
       "    .dataframe thead th {\n",
       "        text-align: right;\n",
       "    }\n",
       "</style>\n",
       "<table border=\"1\" class=\"dataframe\">\n",
       "  <thead>\n",
       "    <tr style=\"text-align: right;\">\n",
       "      <th></th>\n",
       "      <th>molecule</th>\n",
       "      <th>bond_index</th>\n",
       "      <th>fragment1</th>\n",
       "      <th>fragment2</th>\n",
       "      <th>bond_type</th>\n",
       "      <th>bde</th>\n",
       "      <th>bdfe</th>\n",
       "      <th>bdscfe</th>\n",
       "      <th>set</th>\n",
       "    </tr>\n",
       "    <tr>\n",
       "      <th>rid</th>\n",
       "      <th></th>\n",
       "      <th></th>\n",
       "      <th></th>\n",
       "      <th></th>\n",
       "      <th></th>\n",
       "      <th></th>\n",
       "      <th></th>\n",
       "      <th></th>\n",
       "      <th></th>\n",
       "    </tr>\n",
       "  </thead>\n",
       "  <tbody>\n",
       "  </tbody>\n",
       "</table>\n",
       "</div>"
      ],
      "text/plain": [
       "Empty DataFrame\n",
       "Columns: [molecule, bond_index, fragment1, fragment2, bond_type, bde, bdfe, bdscfe, set]\n",
       "Index: []"
      ]
     },
     "execution_count": 21,
     "metadata": {},
     "output_type": "execute_result"
    }
   ],
   "source": [
    "ext1 = pd.read_csv('external test/test_set_natural_products.csv', index_col=0)\n",
    "bde3[bde3.molecule.isin(ext1.molecule.unique())]"
   ]
  },
  {
   "cell_type": "code",
   "execution_count": 22,
   "metadata": {},
   "outputs": [
    {
     "data": {
      "text/plain": [
       "C-H     38\n",
       "C-O      9\n",
       "C-C      9\n",
       "H-N      8\n",
       "H-O      4\n",
       "C-I      4\n",
       "C-N      3\n",
       "Br-C     2\n",
       "C-F      1\n",
       "N-S      1\n",
       "C-Cl     1\n",
       "O-S      1\n",
       "Name: bond_type, dtype: int64"
      ]
     },
     "execution_count": 22,
     "metadata": {},
     "output_type": "execute_result"
    }
   ],
   "source": [
    "ext1.bond_type.value_counts()"
   ]
  },
  {
   "cell_type": "code",
   "execution_count": 23,
   "metadata": {},
   "outputs": [
    {
     "data": {
      "text/plain": [
       "(81, 8)"
      ]
     },
     "execution_count": 23,
     "metadata": {},
     "output_type": "execute_result"
    }
   ],
   "source": [
    "ext1.shape"
   ]
  },
  {
   "cell_type": "code",
   "execution_count": 24,
   "metadata": {},
   "outputs": [
    {
     "data": {
      "text/plain": [
       "22.75"
      ]
     },
     "execution_count": 24,
     "metadata": {},
     "output_type": "execute_result"
    }
   ],
   "source": [
    "from rdkit import Chem\n",
    "import numpy as np\n",
    "numb_atoms = []\n",
    "for mol in ext1.molecule.unique():\n",
    "    numb_atoms.append( Chem.MolFromSmiles(mol).GetNumAtoms())\n",
    "np.mean(numb_atoms)"
   ]
  },
  {
   "cell_type": "code",
   "execution_count": 25,
   "metadata": {},
   "outputs": [
    {
     "data": {
      "text/plain": [
       "(65, 8)"
      ]
     },
     "execution_count": 25,
     "metadata": {},
     "output_type": "execute_result"
    }
   ],
   "source": [
    "ext1.drop_duplicates(subset=['molecule', 'fragment1', 'fragment2']).shape"
   ]
  },
  {
   "cell_type": "markdown",
   "metadata": {},
   "source": [
    "### External 2"
   ]
  },
  {
   "cell_type": "code",
   "execution_count": 53,
   "metadata": {},
   "outputs": [
    {
     "data": {
      "text/plain": [
       "array([], dtype=object)"
      ]
     },
     "execution_count": 53,
     "metadata": {},
     "output_type": "execute_result"
    }
   ],
   "source": [
    "ext2 = pd.read_csv('external test/test_set_exp_bdes.csv')\n",
    "ext2 = ext2[~ext2.smiles.isin(['FC(F)F', 'CF', 'CCl', 'FCF', 'CC(Cl)(Cl)Cl', 'ClCCl', 'ClC(Cl)Cl'])]\n",
    "bde3[bde3.molecule.isin(ext2.smiles.unique())].molecule.unique()\n",
    "# test3"
   ]
  },
  {
   "cell_type": "code",
   "execution_count": 54,
   "metadata": {},
   "outputs": [
    {
     "data": {
      "text/plain": [
       "C-C     23\n",
       "C-H     20\n",
       "C-Cl    16\n",
       "C-F     10\n",
       "Name: bond_type, dtype: int64"
      ]
     },
     "execution_count": 54,
     "metadata": {},
     "output_type": "execute_result"
    }
   ],
   "source": [
    "ext2.bond_type.value_counts()"
   ]
  },
  {
   "cell_type": "code",
   "execution_count": 55,
   "metadata": {},
   "outputs": [
    {
     "data": {
      "text/plain": [
       "(69, 10)"
      ]
     },
     "execution_count": 55,
     "metadata": {},
     "output_type": "execute_result"
    }
   ],
   "source": [
    "ext2.drop_duplicates(subset=['smiles', 'fragment1', 'fragment2']).shape"
   ]
  },
  {
   "cell_type": "code",
   "execution_count": 56,
   "metadata": {},
   "outputs": [
    {
     "data": {
      "text/plain": [
       "33"
      ]
     },
     "execution_count": 56,
     "metadata": {},
     "output_type": "execute_result"
    }
   ],
   "source": [
    "ext2.smiles.nunique()"
   ]
  },
  {
   "cell_type": "markdown",
   "metadata": {},
   "source": [
    "### External 3"
   ]
  },
  {
   "cell_type": "code",
   "execution_count": 31,
   "metadata": {},
   "outputs": [
    {
     "data": {
      "text/html": [
       "<div>\n",
       "<style scoped>\n",
       "    .dataframe tbody tr th:only-of-type {\n",
       "        vertical-align: middle;\n",
       "    }\n",
       "\n",
       "    .dataframe tbody tr th {\n",
       "        vertical-align: top;\n",
       "    }\n",
       "\n",
       "    .dataframe thead th {\n",
       "        text-align: right;\n",
       "    }\n",
       "</style>\n",
       "<table border=\"1\" class=\"dataframe\">\n",
       "  <thead>\n",
       "    <tr style=\"text-align: right;\">\n",
       "      <th></th>\n",
       "      <th>molecule</th>\n",
       "      <th>bond_index</th>\n",
       "      <th>fragment1</th>\n",
       "      <th>fragment2</th>\n",
       "      <th>bond_type</th>\n",
       "      <th>bde</th>\n",
       "      <th>bdfe</th>\n",
       "      <th>bdscfe</th>\n",
       "      <th>set</th>\n",
       "    </tr>\n",
       "    <tr>\n",
       "      <th>rid</th>\n",
       "      <th></th>\n",
       "      <th></th>\n",
       "      <th></th>\n",
       "      <th></th>\n",
       "      <th></th>\n",
       "      <th></th>\n",
       "      <th></th>\n",
       "      <th></th>\n",
       "      <th></th>\n",
       "    </tr>\n",
       "  </thead>\n",
       "  <tbody>\n",
       "  </tbody>\n",
       "</table>\n",
       "</div>"
      ],
      "text/plain": [
       "Empty DataFrame\n",
       "Columns: [molecule, bond_index, fragment1, fragment2, bond_type, bde, bdfe, bdscfe, set]\n",
       "Index: []"
      ]
     },
     "execution_count": 31,
     "metadata": {},
     "output_type": "execute_result"
    }
   ],
   "source": [
    "ext3 = pd.read_csv('external test/test_set_pfas.csv')\n",
    "bde3[bde3.molecule.isin(ext3.molecule.unique())]\n",
    "# test3"
   ]
  },
  {
   "cell_type": "code",
   "execution_count": 32,
   "metadata": {},
   "outputs": [
    {
     "data": {
      "text/plain": [
       "C-F    557\n",
       "C-C    302\n",
       "C-H    168\n",
       "C-O     46\n",
       "H-O     46\n",
       "H-N     25\n",
       "C-N     16\n",
       "C-S      1\n",
       "N-S      1\n",
       "Name: bond_type, dtype: int64"
      ]
     },
     "execution_count": 32,
     "metadata": {},
     "output_type": "execute_result"
    }
   ],
   "source": [
    "ext3.bond_type.value_counts()"
   ]
  },
  {
   "cell_type": "code",
   "execution_count": 33,
   "metadata": {},
   "outputs": [
    {
     "data": {
      "text/plain": [
       "(1162, 8)"
      ]
     },
     "execution_count": 33,
     "metadata": {},
     "output_type": "execute_result"
    }
   ],
   "source": [
    "ext3.shape"
   ]
  },
  {
   "cell_type": "code",
   "execution_count": 34,
   "metadata": {},
   "outputs": [
    {
     "data": {
      "text/plain": [
       "(697, 8)"
      ]
     },
     "execution_count": 34,
     "metadata": {},
     "output_type": "execute_result"
    }
   ],
   "source": [
    "ext3.drop_duplicates(subset=['molecule', 'fragment1', 'fragment2']).shape"
   ]
  },
  {
   "cell_type": "code",
   "execution_count": 35,
   "metadata": {},
   "outputs": [
    {
     "data": {
      "text/plain": [
       "57"
      ]
     },
     "execution_count": 35,
     "metadata": {},
     "output_type": "execute_result"
    }
   ],
   "source": [
    "ext3.molecule.nunique()"
   ]
  },
  {
   "cell_type": "markdown",
   "metadata": {},
   "source": [
    "### bde-db2"
   ]
  },
  {
   "cell_type": "code",
   "execution_count": 36,
   "metadata": {},
   "outputs": [],
   "source": [
    "bdedb2 = pd.read_csv('bde-db2/bde-db2.csv.gz', index_col=0)"
   ]
  },
  {
   "cell_type": "code",
   "execution_count": 37,
   "metadata": {},
   "outputs": [
    {
     "data": {
      "text/html": [
       "<div>\n",
       "<style scoped>\n",
       "    .dataframe tbody tr th:only-of-type {\n",
       "        vertical-align: middle;\n",
       "    }\n",
       "\n",
       "    .dataframe tbody tr th {\n",
       "        vertical-align: top;\n",
       "    }\n",
       "\n",
       "    .dataframe thead th {\n",
       "        text-align: right;\n",
       "    }\n",
       "</style>\n",
       "<table border=\"1\" class=\"dataframe\">\n",
       "  <thead>\n",
       "    <tr style=\"text-align: right;\">\n",
       "      <th></th>\n",
       "      <th>molecule</th>\n",
       "      <th>bond_index</th>\n",
       "      <th>fragment1</th>\n",
       "      <th>fragment2</th>\n",
       "      <th>bde</th>\n",
       "      <th>bdfe</th>\n",
       "      <th>bdscfe</th>\n",
       "      <th>bond_type</th>\n",
       "      <th>set</th>\n",
       "    </tr>\n",
       "    <tr>\n",
       "      <th>rid</th>\n",
       "      <th></th>\n",
       "      <th></th>\n",
       "      <th></th>\n",
       "      <th></th>\n",
       "      <th></th>\n",
       "      <th></th>\n",
       "      <th></th>\n",
       "      <th></th>\n",
       "      <th></th>\n",
       "    </tr>\n",
       "  </thead>\n",
       "  <tbody>\n",
       "    <tr>\n",
       "      <th>1643.0</th>\n",
       "      <td>CC(=O)[C@H](C)O</td>\n",
       "      <td>2</td>\n",
       "      <td>C[C]=O</td>\n",
       "      <td>C[CH]O</td>\n",
       "      <td>81.637666</td>\n",
       "      <td>67.177976</td>\n",
       "      <td>85.596182</td>\n",
       "      <td>C-C</td>\n",
       "      <td>train</td>\n",
       "    </tr>\n",
       "    <tr>\n",
       "      <th>5327.0</th>\n",
       "      <td>CN1CCN(CCN)CC1</td>\n",
       "      <td>6</td>\n",
       "      <td>[CH2]CN1CCN(C)CC1</td>\n",
       "      <td>[NH2]</td>\n",
       "      <td>87.007888</td>\n",
       "      <td>74.432608</td>\n",
       "      <td>94.044523</td>\n",
       "      <td>C-N</td>\n",
       "      <td>train</td>\n",
       "    </tr>\n",
       "    <tr>\n",
       "      <th>5847.0</th>\n",
       "      <td>OCCc1ncc[nH]1</td>\n",
       "      <td>0</td>\n",
       "      <td>[CH2]Cc1ncc[nH]1</td>\n",
       "      <td>[OH]</td>\n",
       "      <td>97.708799</td>\n",
       "      <td>85.799933</td>\n",
       "      <td>103.607444</td>\n",
       "      <td>C-O</td>\n",
       "      <td>train</td>\n",
       "    </tr>\n",
       "    <tr>\n",
       "      <th>5849.0</th>\n",
       "      <td>OCCc1ncc[nH]1</td>\n",
       "      <td>2</td>\n",
       "      <td>[CH2]CO</td>\n",
       "      <td>[c]1ncc[nH]1</td>\n",
       "      <td>111.388495</td>\n",
       "      <td>97.257620</td>\n",
       "      <td>116.298432</td>\n",
       "      <td>C-C</td>\n",
       "      <td>train</td>\n",
       "    </tr>\n",
       "    <tr>\n",
       "      <th>7480.0</th>\n",
       "      <td>CCCC(=O)OCC</td>\n",
       "      <td>2</td>\n",
       "      <td>CCO[C]=O</td>\n",
       "      <td>[CH2]CC</td>\n",
       "      <td>93.436718</td>\n",
       "      <td>79.632775</td>\n",
       "      <td>98.273105</td>\n",
       "      <td>C-C</td>\n",
       "      <td>train</td>\n",
       "    </tr>\n",
       "    <tr>\n",
       "      <th>...</th>\n",
       "      <td>...</td>\n",
       "      <td>...</td>\n",
       "      <td>...</td>\n",
       "      <td>...</td>\n",
       "      <td>...</td>\n",
       "      <td>...</td>\n",
       "      <td>...</td>\n",
       "      <td>...</td>\n",
       "      <td>...</td>\n",
       "    </tr>\n",
       "    <tr>\n",
       "      <th>1165608.0</th>\n",
       "      <td>O=C(OC1CC1)[C@H]1C[C@@H]1F</td>\n",
       "      <td>5</td>\n",
       "      <td>O=[C]OC1CC1</td>\n",
       "      <td>F[C@@H]1[CH]C1</td>\n",
       "      <td>103.767398</td>\n",
       "      <td>89.844856</td>\n",
       "      <td>108.195512</td>\n",
       "      <td>C-C</td>\n",
       "      <td>train</td>\n",
       "    </tr>\n",
       "    <tr>\n",
       "      <th>174043.0</th>\n",
       "      <td>CN(C)CCN=C(N)N</td>\n",
       "      <td>3</td>\n",
       "      <td>[CH2]N(C)C</td>\n",
       "      <td>[CH2]N=C(N)N</td>\n",
       "      <td>70.378899</td>\n",
       "      <td>55.753547</td>\n",
       "      <td>75.722240</td>\n",
       "      <td>C-C</td>\n",
       "      <td>train</td>\n",
       "    </tr>\n",
       "    <tr>\n",
       "      <th>253892.0</th>\n",
       "      <td>CN(C)C/C=N/N(C)C</td>\n",
       "      <td>3</td>\n",
       "      <td>[CH2]N(C)C</td>\n",
       "      <td>[CH]=NN(C)C</td>\n",
       "      <td>84.140799</td>\n",
       "      <td>70.385802</td>\n",
       "      <td>88.590835</td>\n",
       "      <td>C-C</td>\n",
       "      <td>train</td>\n",
       "    </tr>\n",
       "    <tr>\n",
       "      <th>989691.0</th>\n",
       "      <td>CS[C@H](C)CCN(C)C</td>\n",
       "      <td>4</td>\n",
       "      <td>[CH2]N(C)C</td>\n",
       "      <td>[CH2][C@@H](C)SC</td>\n",
       "      <td>78.681471</td>\n",
       "      <td>63.484458</td>\n",
       "      <td>84.004562</td>\n",
       "      <td>C-C</td>\n",
       "      <td>train</td>\n",
       "    </tr>\n",
       "    <tr>\n",
       "      <th>380338.0</th>\n",
       "      <td>C/C=C(\\C)C(=O)CC</td>\n",
       "      <td>3</td>\n",
       "      <td>C/[C]=C\\C</td>\n",
       "      <td>CC[C]=O</td>\n",
       "      <td>94.162746</td>\n",
       "      <td>79.501625</td>\n",
       "      <td>98.247520</td>\n",
       "      <td>C-C</td>\n",
       "      <td>train</td>\n",
       "    </tr>\n",
       "  </tbody>\n",
       "</table>\n",
       "<p>831871 rows × 9 columns</p>\n",
       "</div>"
      ],
      "text/plain": [
       "                             molecule  bond_index          fragment1  \\\n",
       "rid                                                                    \n",
       "1643.0                CC(=O)[C@H](C)O           2             C[C]=O   \n",
       "5327.0                 CN1CCN(CCN)CC1           6  [CH2]CN1CCN(C)CC1   \n",
       "5847.0                  OCCc1ncc[nH]1           0   [CH2]Cc1ncc[nH]1   \n",
       "5849.0                  OCCc1ncc[nH]1           2            [CH2]CO   \n",
       "7480.0                    CCCC(=O)OCC           2           CCO[C]=O   \n",
       "...                               ...         ...                ...   \n",
       "1165608.0  O=C(OC1CC1)[C@H]1C[C@@H]1F           5        O=[C]OC1CC1   \n",
       "174043.0               CN(C)CCN=C(N)N           3         [CH2]N(C)C   \n",
       "253892.0             CN(C)C/C=N/N(C)C           3         [CH2]N(C)C   \n",
       "989691.0            CS[C@H](C)CCN(C)C           4         [CH2]N(C)C   \n",
       "380338.0             C/C=C(\\C)C(=O)CC           3          C/[C]=C\\C   \n",
       "\n",
       "                  fragment2         bde       bdfe      bdscfe bond_type  \\\n",
       "rid                                                                        \n",
       "1643.0               C[CH]O   81.637666  67.177976   85.596182       C-C   \n",
       "5327.0                [NH2]   87.007888  74.432608   94.044523       C-N   \n",
       "5847.0                 [OH]   97.708799  85.799933  103.607444       C-O   \n",
       "5849.0         [c]1ncc[nH]1  111.388495  97.257620  116.298432       C-C   \n",
       "7480.0              [CH2]CC   93.436718  79.632775   98.273105       C-C   \n",
       "...                     ...         ...        ...         ...       ...   \n",
       "1165608.0    F[C@@H]1[CH]C1  103.767398  89.844856  108.195512       C-C   \n",
       "174043.0       [CH2]N=C(N)N   70.378899  55.753547   75.722240       C-C   \n",
       "253892.0        [CH]=NN(C)C   84.140799  70.385802   88.590835       C-C   \n",
       "989691.0   [CH2][C@@H](C)SC   78.681471  63.484458   84.004562       C-C   \n",
       "380338.0            CC[C]=O   94.162746  79.501625   98.247520       C-C   \n",
       "\n",
       "             set  \n",
       "rid               \n",
       "1643.0     train  \n",
       "5327.0     train  \n",
       "5847.0     train  \n",
       "5849.0     train  \n",
       "7480.0     train  \n",
       "...          ...  \n",
       "1165608.0  train  \n",
       "174043.0   train  \n",
       "253892.0   train  \n",
       "989691.0   train  \n",
       "380338.0   train  \n",
       "\n",
       "[831871 rows x 9 columns]"
      ]
     },
     "execution_count": 37,
     "metadata": {},
     "output_type": "execute_result"
    }
   ],
   "source": [
    "bdedb2"
   ]
  },
  {
   "cell_type": "code",
   "execution_count": 38,
   "metadata": {},
   "outputs": [
    {
     "data": {
      "text/plain": [
       "(531244, 9)"
      ]
     },
     "execution_count": 38,
     "metadata": {},
     "output_type": "execute_result"
    }
   ],
   "source": [
    "bdedb2.drop_duplicates(subset=['molecule', 'fragment1', 'fragment2']).shape"
   ]
  },
  {
   "cell_type": "code",
   "execution_count": 39,
   "metadata": {},
   "outputs": [
    {
     "data": {
      "text/plain": [
       "65540"
      ]
     },
     "execution_count": 39,
     "metadata": {},
     "output_type": "execute_result"
    }
   ],
   "source": [
    "bdedb2.molecule.nunique()"
   ]
  },
  {
   "cell_type": "code",
   "execution_count": 40,
   "metadata": {},
   "outputs": [
    {
     "data": {
      "text/plain": [
       "9.131236272356448"
      ]
     },
     "execution_count": 40,
     "metadata": {},
     "output_type": "execute_result"
    }
   ],
   "source": [
    "#number of tatoms\n",
    "from rdkit import Chem\n",
    "import numpy as np\n",
    "numb_atoms3 = []\n",
    "for mol in bde3.molecule.unique():\n",
    "    numb_atoms3.append( Chem.MolFromSmiles(mol).GetNumAtoms())\n",
    "np.mean(numb_atoms3)"
   ]
  },
  {
   "cell_type": "code",
   "execution_count": null,
   "metadata": {},
   "outputs": [],
   "source": []
  }
 ],
 "metadata": {
  "kernelspec": {
   "display_name": "rd",
   "language": "python",
   "name": "my-rdkit-envv"
  },
  "language_info": {
   "codemirror_mode": {
    "name": "ipython",
    "version": 3
   },
   "file_extension": ".py",
   "mimetype": "text/x-python",
   "name": "python",
   "nbconvert_exporter": "python",
   "pygments_lexer": "ipython3",
   "version": "3.7.16"
  }
 },
 "nbformat": 4,
 "nbformat_minor": 2
}
